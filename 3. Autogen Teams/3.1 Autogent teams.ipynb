{
 "cells": [
  {
   "cell_type": "markdown",
   "id": "f2022aae",
   "metadata": {},
   "source": [
    "## AutoGen Teams --> Multi Agent "
   ]
  },
  {
   "cell_type": "code",
   "execution_count": 1,
   "id": "f4552c0f",
   "metadata": {},
   "outputs": [
    {
     "data": {
      "text/plain": [
       "True"
      ]
     },
     "execution_count": 1,
     "metadata": {},
     "output_type": "execute_result"
    }
   ],
   "source": [
    "import asyncio\n",
    "from dotenv import load_dotenv\n",
    "import os\n",
    "from autogen_ext.models.openai import OpenAIChatCompletionClient\n",
    "\n",
    "load_dotenv()"
   ]
  },
  {
   "cell_type": "code",
   "execution_count": 2,
   "id": "72472efe",
   "metadata": {},
   "outputs": [],
   "source": [
    "api_key=os.getenv('OPENAI_API_KEY')\n",
    "model_client=OpenAIChatCompletionClient(model='gpt-4o', api_key=api_key)"
   ]
  },
  {
   "cell_type": "code",
   "execution_count": 10,
   "id": "cf7eb715",
   "metadata": {},
   "outputs": [],
   "source": [
    "from autogen_agentchat.agents import AssistantAgent\n",
    "\n",
    "das_solver = AssistantAgent(\n",
    "    name='Complex_DSA_Solver',\n",
    "    model_client=model_client,\n",
    "    description='A DSA solver',\n",
    "    system_message='You give a python code to solve somplex DSA problems. Give under 100 words'\n",
    ")\n",
    "\n",
    "code_reviewer = AssistantAgent(\n",
    "    name='Code_Reviewer',\n",
    "    model_client=model_client,\n",
    "    description='A code reviewer',\n",
    "    system_message='Uou review the code given by the complex_dsa_solver and make sure it is optimized. Give under 20 words'\n",
    ")\n",
    "\n",
    "code_editor = AssistantAgent(\n",
    "    name='Code_Editor',\n",
    "    model_client=model_client,\n",
    "    description='A code editor',\n",
    "    system_message='You make the code easy to understand and add comments wherever required.'\n",
    ")"
   ]
  },
  {
   "cell_type": "code",
   "execution_count": 13,
   "id": "c2089e78",
   "metadata": {},
   "outputs": [],
   "source": [
    "from autogen_agentchat.teams import RoundRobinGroupChat\n",
    "from autogen_agentchat.messages import TextMessage\n",
    "\n",
    "team = RoundRobinGroupChat(\n",
    "    participants=[das_solver, code_reviewer, code_editor],\n",
    "    max_turns=6\n",
    ")"
   ]
  },
  {
   "cell_type": "code",
   "execution_count": 14,
   "id": "b08dc46a",
   "metadata": {},
   "outputs": [
    {
     "name": "stdout",
     "output_type": "stream",
     "text": [
      "messages=[TextMessage(id='60e4b7f3-9f5a-4a17-ba1d-5564f2e31ea2', source='user', models_usage=None, metadata={}, created_at=datetime.datetime(2025, 7, 13, 1, 29, 25, 736594, tzinfo=datetime.timezone.utc), content='write a simple code in Python to add 2 numbers', type='TextMessage'), TextMessage(id='27c69a99-efc6-46f1-b686-b32eab5c7e13', source='Complex_DSA_Solver', models_usage=RequestUsage(prompt_tokens=41, completion_tokens=109), metadata={}, created_at=datetime.datetime(2025, 7, 13, 1, 29, 28, 796816, tzinfo=datetime.timezone.utc), content='Here\\'s a simple Python code to add two numbers:\\n\\n```python\\ndef add_numbers(a, b):\\n    return a + b\\n\\nnum1 = float(input(\"Enter first number: \"))\\nnum2 = float(input(\"Enter second number: \"))\\n\\nsum = add_numbers(num1, num2)\\nprint(f\"The sum is: {sum}\")\\n```\\n\\nThis code defines a function `add_numbers` that takes two arguments and returns their sum. It uses `input()` to get user input, converts it to a float, and prints the result.', type='TextMessage'), TextMessage(id='4cf94d7c-4e3b-4397-b739-db0b0019e1dd', source='Code_Reviewer', models_usage=RequestUsage(prompt_tokens=166, completion_tokens=46), metadata={}, created_at=datetime.datetime(2025, 7, 13, 1, 29, 30, 648026, tzinfo=datetime.timezone.utc), content='Optimize by directly summing inputs:\\n\\n```python\\nnum1 = float(input(\"Enter first number: \"))\\nnum2 = float(input(\"Enter second number: \"))\\nprint(f\"The sum is: {num1 + num2}\")\\n```', type='TextMessage'), TextMessage(id='15aad5a8-67b7-486a-a62d-78583dce2258', source='Code_Editor', models_usage=RequestUsage(prompt_tokens=209, completion_tokens=178), metadata={}, created_at=datetime.datetime(2025, 7, 13, 1, 29, 34, 462475, tzinfo=datetime.timezone.utc), content='Sure! The optimized version of the code removes the function and directly sums the two input numbers:\\n\\n```python\\n# Prompt the user to enter the first number and convert it to a float\\nnum1 = float(input(\"Enter first number: \"))\\n\\n# Prompt the user to enter the second number and convert it to a float\\nnum2 = float(input(\"Enter second number: \"))\\n\\n# Calculate the sum by directly adding the two numbers and print the result\\nprint(f\"The sum is: {num1 + num2}\")\\n```\\n\\n### Key Points:\\n- This version is straightforward and gets the job done with fewer lines of code.\\n- The `input()` function is used to get input from the user, and `float()` converts that input into a number that can have decimals.\\n- The result is printed directly using the `print()` function with an f-string for better readability.', type='TextMessage'), TextMessage(id='29a8e02c-37f4-4398-aa31-7a442ee9e07f', source='Complex_DSA_Solver', models_usage=RequestUsage(prompt_tokens=394, completion_tokens=116), metadata={}, created_at=datetime.datetime(2025, 7, 13, 1, 29, 37, 56637, tzinfo=datetime.timezone.utc), content='This optimized code directly adds two user-input numbers:\\n\\n```python\\nnum1 = float(input(\"Enter first number: \"))  # Input and convert to float\\nnum2 = float(input(\"Enter second number: \"))  # Input and convert to float\\nprint(f\"The sum is: {num1 + num2}\")  # Output the sum using an f-string\\n```\\n\\n### Key Points:\\n- User input is converted to floating-point numbers for accurate calculation.\\n- The sum is computed and displayed in one line for simplicity.\\n- F-strings enhance readability in displaying results.', type='TextMessage'), TextMessage(id='1c6e91d5-3e5d-4132-b4ea-5e34fa68dc9f', source='Code_Reviewer', models_usage=RequestUsage(prompt_tokens=528, completion_tokens=49), metadata={}, created_at=datetime.datetime(2025, 7, 13, 1, 29, 38, 525208, tzinfo=datetime.timezone.utc), content='The optimized code directly sums inputs using fewer lines:\\n\\n```python\\nnum1 = float(input(\"Enter first number: \"))\\nnum2 = float(input(\"Enter second number: \"))\\nprint(f\"The sum is: {num1 + num2}\")\\n```', type='TextMessage'), TextMessage(id='64d662ce-ab15-44b5-9bc2-7705bd382b14', source='Code_Editor', models_usage=RequestUsage(prompt_tokens=574, completion_tokens=208), metadata={}, created_at=datetime.datetime(2025, 7, 13, 1, 29, 41, 812093, tzinfo=datetime.timezone.utc), content='Here\\'s the concise and optimized code to add two numbers in Python:\\n\\n```python\\n# Read the first number from user input and convert it to a float\\nnum1 = float(input(\"Enter first number: \"))\\n\\n# Read the second number from user input and convert it to a float\\nnum2 = float(input(\"Enter second number: \"))\\n\\n# Directly calculate and print the sum using an f-string for readability\\nprint(f\"The sum is: {num1 + num2}\")\\n```\\n\\n### Explanation:\\n- **`input()` Function**: Captures the user input.\\n- **`float()` Conversion**: Ensures the input can handle decimal values, making the program versatile for a wider range of numbers.\\n- **`f-string`**: A convenient and efficient way of formatting strings in Python to embed expressions directly. This enhances the code readability by clearly showing what gets printed.\\n\\nThis version of the code is efficient and eliminates unnecessary steps, focusing directly on the task of summing the input numbers and displaying the result.', type='TextMessage')] stop_reason='Maximum number of turns 6 reached.'\n"
     ]
    }
   ],
   "source": [
    "async def run_team():\n",
    "    task = TextMessage(content='write a simple code in Python to add 2 numbers', source='user')\n",
    "\n",
    "    result = await team.run(task=task)\n",
    "\n",
    "    print(result)\n",
    "\n",
    "await run_team()"
   ]
  },
  {
   "cell_type": "markdown",
   "id": "94d11a7e",
   "metadata": {},
   "source": [
    "messages=[\n",
    "    TextMessage(id='60e4b7f3-9f5a-4a17-ba1d-5564f2e31ea2', source='user', models_usage=None, metadata={}, created_at=datetime.datetime(2025, 7, 13, 1, 29, 25, 736594, tzinfo=datetime.timezone.utc), content='write a simple code in Python to add 2 numbers', type='TextMessage'), \n",
    "    \n",
    "    1. TextMessage(id='27c69a99-efc6-46f1-b686-b32eab5c7e13', source='Complex_DSA_Solver', models_usage=RequestUsage(prompt_tokens=41, completion_tokens=109), metadata={}, created_at=datetime.datetime(2025, 7, 13, 1, 29, 28, 796816, tzinfo=datetime.timezone.utc), content='Here\\'s a simple Python code to add two numbers:\\n\\n```python\\ndef add_numbers(a, b):\\n    return a + b\\n\\nnum1 = float(input(\"Enter first number: \"))\\nnum2 = float(input(\"Enter second number: \"))\\n\\nsum = add_numbers(num1, num2)\\nprint(f\"The sum is: {sum}\")\\n```\\n\\nThis code defines a function `add_numbers` that takes two arguments and returns their sum. It uses `input()` to get user input, converts it to a float, and prints the result.', type='TextMessage'), \n",
    "    \n",
    "    2. TextMessage(id='4cf94d7c-4e3b-4397-b739-db0b0019e1dd', source='Code_Reviewer', models_usage=RequestUsage(prompt_tokens=166, completion_tokens=46), metadata={}, created_at=datetime.datetime(2025, 7, 13, 1, 29, 30, 648026, tzinfo=datetime.timezone.utc), content='Optimize by directly summing inputs:\\n\\n```python\\nnum1 = float(input(\"Enter first number: \"))\\nnum2 = float(input(\"Enter second number: \"))\\nprint(f\"The sum is: {num1 + num2}\")\\n```', type='TextMessage'), \n",
    "    \n",
    "    3. TextMessage(id='15aad5a8-67b7-486a-a62d-78583dce2258', source='Code_Editor', models_usage=RequestUsage(prompt_tokens=209, completion_tokens=178), metadata={}, created_at=datetime.datetime(2025, 7, 13, 1, 29, 34, 462475, tzinfo=datetime.timezone.utc), content='Sure! The optimized version of the code removes the function and directly sums the two input numbers:\\n\\n```python\\n# Prompt the user to enter the first number and convert it to a float\\nnum1 = float(input(\"Enter first number: \"))\\n\\n# Prompt the user to enter the second number and convert it to a float\\nnum2 = float(input(\"Enter second number: \"))\\n\\n# Calculate the sum by directly adding the two numbers and print the result\\nprint(f\"The sum is: {num1 + num2}\")\\n```\\n\\n### Key Points:\\n- This version is straightforward and gets the job done with fewer lines of code.\\n- The `input()` function is used to get input from the user, and `float()` converts that input into a number that can have decimals.\\n- The result is printed directly using the `print()` function with an f-string for better readability.', type='TextMessage'), \n",
    "    \n",
    "    4. TextMessage(id='29a8e02c-37f4-4398-aa31-7a442ee9e07f', source='Complex_DSA_Solver', models_usage=RequestUsage(prompt_tokens=394, completion_tokens=116), metadata={}, created_at=datetime.datetime(2025, 7, 13, 1, 29, 37, 56637, tzinfo=datetime.timezone.utc), content='This optimized code directly adds two user-input numbers:\\n\\n```python\\nnum1 = float(input(\"Enter first number: \"))  # Input and convert to float\\nnum2 = float(input(\"Enter second number: \"))  # Input and convert to float\\nprint(f\"The sum is: {num1 + num2}\")  # Output the sum using an f-string\\n```\\n\\n### Key Points:\\n- User input is converted to floating-point numbers for accurate calculation.\\n- The sum is computed and displayed in one line for simplicity.\\n- F-strings enhance readability in displaying results.', type='TextMessage'), \n",
    "    \n",
    "    5. TextMessage(id='1c6e91d5-3e5d-4132-b4ea-5e34fa68dc9f', source='Code_Reviewer', models_usage=RequestUsage(prompt_tokens=528, completion_tokens=49), metadata={}, created_at=datetime.datetime(2025, 7, 13, 1, 29, 38, 525208, tzinfo=datetime.timezone.utc), content='The optimized code directly sums inputs using fewer lines:\\n\\n```python\\nnum1 = float(input(\"Enter first number: \"))\\nnum2 = float(input(\"Enter second number: \"))\\nprint(f\"The sum is: {num1 + num2}\")\\n```', type='TextMessage'), \n",
    "    \n",
    "    6. TextMessage(id='64d662ce-ab15-44b5-9bc2-7705bd382b14', source='Code_Editor', models_usage=RequestUsage(prompt_tokens=574, completion_tokens=208), metadata={}, created_at=datetime.datetime(2025, 7, 13, 1, 29, 41, 812093, tzinfo=datetime.timezone.utc), content='Here\\'s the concise and optimized code to add two numbers in Python:\\n\\n```python\\n# Read the first number from user input and convert it to a float\\nnum1 = float(input(\"Enter first number: \"))\\n\\n# Read the second number from user input and convert it to a float\\nnum2 = float(input(\"Enter second number: \"))\\n\\n# Directly calculate and print the sum using an f-string for readability\\nprint(f\"The sum is: {num1 + num2}\")\\n```\\n\\n### Explanation:\\n- **`input()` Function**: Captures the user input.\\n- **`float()` Conversion**: Ensures the input can handle decimal values, making the program versatile for a wider range of numbers.\\n- **`f-string`**: A convenient and efficient way of formatting strings in Python to embed expressions directly. This enhances the code readability by clearly showing what gets printed.\\n\\nThis version of the code is efficient and eliminates unnecessary steps, focusing directly on the task of summing the input numbers and displaying the result.', type='TextMessage')] \n",
    "    \n",
    "    stop_reason='Maximum number of turns 6 reached.'"
   ]
  },
  {
   "cell_type": "code",
   "execution_count": null,
   "id": "330913e0",
   "metadata": {},
   "outputs": [],
   "source": []
  }
 ],
 "metadata": {
  "kernelspec": {
   "display_name": "Python 3",
   "language": "python",
   "name": "python3"
  },
  "language_info": {
   "codemirror_mode": {
    "name": "ipython",
    "version": 3
   },
   "file_extension": ".py",
   "mimetype": "text/x-python",
   "name": "python",
   "nbconvert_exporter": "python",
   "pygments_lexer": "ipython3",
   "version": "3.13.5"
  }
 },
 "nbformat": 4,
 "nbformat_minor": 5
}
