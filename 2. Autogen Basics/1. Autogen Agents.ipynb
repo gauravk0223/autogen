{
 "cells": [
  {
   "cell_type": "markdown",
   "id": "44243885",
   "metadata": {},
   "source": [
    "AgentChat API with Assistant Agent"
   ]
  },
  {
   "cell_type": "code",
   "execution_count": null,
   "id": "83bf0676",
   "metadata": {},
   "outputs": [],
   "source": [
    "import autogen"
   ]
  }
 ],
 "metadata": {
  "kernelspec": {
   "display_name": "Python 3",
   "language": "python",
   "name": "python3"
  },
  "language_info": {
   "name": "python",
   "version": "3.13.5"
  }
 },
 "nbformat": 4,
 "nbformat_minor": 5
}
