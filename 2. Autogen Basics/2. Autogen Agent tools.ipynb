{
 "cells": [
  {
   "cell_type": "markdown",
   "id": "b2348d34",
   "metadata": {},
   "source": [
    "Tools\n",
    "\n",
    "There are 3 types of Tools:\n",
    "\n",
    "1. Custom Functions\n",
    "2. Built In\n",
    "3. Third Party tools "
   ]
  },
  {
   "cell_type": "code",
   "execution_count": null,
   "id": "24512aae",
   "metadata": {},
   "outputs": [],
   "source": [
    "from autogen_agentchat.agents import AssistantAgent\n",
    "from autogen_ext.models.openai import OpenAIChatCompletionClient\n",
    "from dotenv import load_dotenv\n",
    "\n",
    "load_dotenv()"
   ]
  },
  {
   "cell_type": "code",
   "execution_count": null,
   "id": "8ef00d5c",
   "metadata": {},
   "outputs": [],
   "source": [
    "from autogen_core.tools import FunctionTool"
   ]
  }
 ],
 "metadata": {
  "kernelspec": {
   "display_name": "Python 3",
   "language": "python",
   "name": "python3"
  },
  "language_info": {
   "name": "python",
   "version": "3.13.5"
  }
 },
 "nbformat": 4,
 "nbformat_minor": 5
}
