{
 "cells": [
  {
   "cell_type": "markdown",
   "id": "b4cd83e9",
   "metadata": {},
   "source": [
    "### Async Functionality in Python"
   ]
  },
  {
   "cell_type": "code",
   "execution_count": 2,
   "id": "3a07816b",
   "metadata": {},
   "outputs": [
    {
     "name": "stdout",
     "output_type": "stream",
     "text": [
      "Hello I am the first function\n",
      "Hello I am the second function\n"
     ]
    }
   ],
   "source": [
    "def fun1():\n",
    "    print(\"Hello I am the first function\")\n",
    "\n",
    "def fun2():\n",
    "    print(\"Hello I am the second function\")\n",
    "\n",
    "fun1()\n",
    "fun2()\n"
   ]
  },
  {
   "cell_type": "code",
   "execution_count": 4,
   "id": "18c707a0",
   "metadata": {},
   "outputs": [
    {
     "name": "stdout",
     "output_type": "stream",
     "text": [
      "Brewing Coffee\n",
      "Coffee Ready\n",
      "Toasting Bagel\n",
      "Bagel Ready\n",
      "Time:5.00 minutes\n"
     ]
    }
   ],
   "source": [
    "import time\n",
    "\n",
    "def brew_coffee():\n",
    "    print(\"Brewing Coffee\")\n",
    "    time.sleep(3)\n",
    "    print(\"Coffee Ready\")\n",
    "\n",
    "def toast_bagel():\n",
    "    print(\"Toasting Bagel\")\n",
    "    time.sleep(2)\n",
    "    print(\"Bagel Ready\")\n",
    "\n",
    "def main():\n",
    "    start = time.time()\n",
    "\n",
    "    coffee = brew_coffee()\n",
    "    bagel = toast_bagel()\n",
    "\n",
    "    end = time.time()\n",
    "\n",
    "    print(f\"Time:{end-start:.2f} minutes\")\n",
    "\n",
    "main()\n"
   ]
  },
  {
   "cell_type": "code",
   "execution_count": 12,
   "id": "b8026d4d",
   "metadata": {},
   "outputs": [
    {
     "name": "stdout",
     "output_type": "stream",
     "text": [
      "Brewing Coffee2 \n",
      "Toasting Bagel 2\n",
      "Bagel Ready2\n",
      "Coffee Ready2\n",
      "Time:3.00 minutes\n"
     ]
    }
   ],
   "source": [
    "import asyncio\n",
    "\n",
    "async def brew_coffee():\n",
    "    print(\"Brewing Coffee2 \")\n",
    "    await asyncio.sleep(3)\n",
    "    print(\"Coffee Ready2\")\n",
    "\n",
    "async def toast_bagel():\n",
    "    print(\"Toasting Bagel 2\")\n",
    "    await asyncio.sleep(2)\n",
    "    print(\"Bagel Ready2\")\n",
    "\n",
    "async def main():\n",
    "    \n",
    "    start = time.time()\n",
    "\n",
    "    coffee = brew_coffee()\n",
    "    bagel = toast_bagel()\n",
    "\n",
    "    results = await asyncio.gather(coffee, bagel)\n",
    "\n",
    "    end = time.time()\n",
    "    print(f\"Time:{end-start:.2f} minutes\")\n",
    "\n",
    "await main()"
   ]
  },
  {
   "cell_type": "code",
   "execution_count": null,
   "id": "78bbed5e",
   "metadata": {},
   "outputs": [],
   "source": []
  }
 ],
 "metadata": {
  "kernelspec": {
   "display_name": "Python 3",
   "language": "python",
   "name": "python3"
  },
  "language_info": {
   "codemirror_mode": {
    "name": "ipython",
    "version": 3
   },
   "file_extension": ".py",
   "mimetype": "text/x-python",
   "name": "python",
   "nbconvert_exporter": "python",
   "pygments_lexer": "ipython3",
   "version": "3.13.5"
  }
 },
 "nbformat": 4,
 "nbformat_minor": 5
}
