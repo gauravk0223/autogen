{
 "cells": [
  {
   "cell_type": "code",
   "execution_count": null,
   "id": "4fd31e6b",
   "metadata": {},
   "outputs": [],
   "source": [
    "from autogen_agentchat.agents import AssistantAgent\n",
    "from autogen_ext.models.openai import OpenAIChatCompletionClient\n",
    "from dotenv import load_dotenv\n",
    "\n",
    "load_dotenv()\n",
    "\n",
    "import os"
   ]
  },
  {
   "cell_type": "code",
   "execution_count": 5,
   "id": "f6a35bb3",
   "metadata": {},
   "outputs": [],
   "source": [
    "api_key=os.getenv(\"OPENAI_API_KEY\")"
   ]
  },
  {
   "cell_type": "code",
   "execution_count": 6,
   "id": "e2ae08a4",
   "metadata": {},
   "outputs": [],
   "source": [
    "model_client= OpenAIChatCompletionClient(model='gpt-4o',api_key=api_key)"
   ]
  },
  {
   "cell_type": "code",
   "execution_count": 7,
   "id": "d4a805e6",
   "metadata": {},
   "outputs": [],
   "source": [
    "agent_1 = AssistantAgent(name='my_assistent', model_client=model_client)"
   ]
  },
  {
   "cell_type": "code",
   "execution_count": 8,
   "id": "88ec1578",
   "metadata": {},
   "outputs": [],
   "source": [
    "result = await agent_1.run(task='Tell me something about you?')"
   ]
  },
  {
   "cell_type": "code",
   "execution_count": 9,
   "id": "17927679",
   "metadata": {},
   "outputs": [
    {
     "name": "stdout",
     "output_type": "stream",
     "text": [
      "messages=[TextMessage(id='922c2ffb-dd64-4abc-b92b-b4b30ffc2f2a', source='user', models_usage=None, metadata={}, created_at=datetime.datetime(2025, 7, 5, 5, 46, 50, 7874, tzinfo=datetime.timezone.utc), content='Tell me something about you?', type='TextMessage'), TextMessage(id='75eeb2e8-81cd-4336-8c1f-8e6eafd43807', source='my_assistent', models_usage=RequestUsage(prompt_tokens=42, completion_tokens=71), metadata={}, created_at=datetime.datetime(2025, 7, 5, 5, 46, 53, 247967, tzinfo=datetime.timezone.utc), content='I am an advanced AI developed to assist users with a wide range of tasks by providing information, answering questions, and offering explanations. I can help with research, problem-solving, and learning across various subjects. My goal is to assist and provide helpful, accurate, and insightful responses. If you have any task or question, feel free to ask! TERMINATE', type='TextMessage')] stop_reason=None\n"
     ]
    }
   ],
   "source": [
    "print(result)"
   ]
  }
 ],
 "metadata": {
  "kernelspec": {
   "display_name": "Python 3",
   "language": "python",
   "name": "python3"
  },
  "language_info": {
   "codemirror_mode": {
    "name": "ipython",
    "version": 3
   },
   "file_extension": ".py",
   "mimetype": "text/x-python",
   "name": "python",
   "nbconvert_exporter": "python",
   "pygments_lexer": "ipython3",
   "version": "3.13.5"
  }
 },
 "nbformat": 4,
 "nbformat_minor": 5
}
